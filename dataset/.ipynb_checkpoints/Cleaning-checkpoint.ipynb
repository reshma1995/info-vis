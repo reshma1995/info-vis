{
 "cells": [
  {
   "cell_type": "code",
   "execution_count": 1,
   "id": "85e92278-bb7e-40bc-95a4-0b0b3a8ab0fd",
   "metadata": {},
   "outputs": [],
   "source": [
    "import pandas as pd"
   ]
  },
  {
   "cell_type": "code",
   "execution_count": 280,
   "id": "9d66439e-252a-4221-af56-f5fd4b6323e9",
   "metadata": {},
   "outputs": [],
   "source": [
    "circuits = pd.read_csv(\"circuits.csv\")\n",
    "constructors = pd.read_csv(\"constructors.csv\")\n",
    "drivers = pd.read_csv(\"drivers.csv\")\n",
    "races = pd.read_csv(\"races.csv\")\n",
    "results = pd.read_csv(\"results.csv\")\n",
    "qualifying = pd.read_csv(\"qualifying.csv\")\n",
    "pitstops = pd.read_csv(\"pit_stops.csv\")\n",
    "status = pd.read_csv(\"status.csv\")"
   ]
  },
  {
   "cell_type": "code",
   "execution_count": 282,
   "id": "d35e06f3-dbd7-4405-9cf9-6ce805b21636",
   "metadata": {},
   "outputs": [],
   "source": [
    "races = races.drop(columns=[\"url\", \"time\"])\n",
    "races = races.rename(columns={\"name\": \"raceName\", \"year\":\"raceYear\", \"date\":\"raceDate\"})"
   ]
  },
  {
   "cell_type": "code",
   "execution_count": 284,
   "id": "78b3c2b1-fbd3-421e-b466-9b7b0f082a3d",
   "metadata": {},
   "outputs": [],
   "source": [
    "circuits = circuits.drop(columns=[\"url\"])\n",
    "circuits = circuits.rename(columns={\"name\": \"circuitName\", \"location\": \"circuitLocation\"})"
   ]
  },
  {
   "cell_type": "code",
   "execution_count": 286,
   "id": "edaaa9e7-76d4-4b39-aa97-588976d16775",
   "metadata": {},
   "outputs": [],
   "source": [
    "drivers = drivers.drop(columns=[\"url\"])\n",
    "drivers = drivers.rename(columns={\"dob\": \"driverDOB\", \"nationality\":\"driverNationality\", \"code\": \"driverCode\", \"number\": \"driverNumber\"})"
   ]
  },
  {
   "cell_type": "code",
   "execution_count": 288,
   "id": "65439e11-4c8b-4e5a-9490-0ced3f150394",
   "metadata": {},
   "outputs": [],
   "source": [
    "results = results.drop(columns=[\"number\"])\n",
    "results = results.rename(columns={\"position\": \"resultPosition\"})"
   ]
  },
  {
   "cell_type": "code",
   "execution_count": 290,
   "id": "f96e1ce8-a28f-4711-b61c-feec24e96319",
   "metadata": {},
   "outputs": [],
   "source": [
    "constructors = constructors.drop(columns=[\"url\"])\n",
    "constructors = constructors.rename(columns={\"name\": \"constructorName\", \"nationality\":\"constructorNationality\"})"
   ]
  },
  {
   "cell_type": "code",
   "execution_count": 292,
   "id": "3bbc51cb-714e-412c-a63f-d62c5b00f736",
   "metadata": {},
   "outputs": [],
   "source": [
    "qualifying = qualifying.drop(columns=[\"number\"])\n",
    "qualifying = qualifying.rename(columns={\"position\": \"qualifyingPosition\"})"
   ]
  },
  {
   "cell_type": "code",
   "execution_count": 294,
   "id": "6ac3c879-b994-4b4a-91a8-b3f5cb4bd015",
   "metadata": {},
   "outputs": [],
   "source": [
    "pitstops = pitstops.rename(columns={\"lap\": \"pitStopLap\", \"stop\":\"pitStopNumber\", \"time\": \"pitStopTime\", \"duration\": \"pitStopDuration\", \"milliseconds\": \"pitStopMilliseconds\"})"
   ]
  },
  {
   "cell_type": "code",
   "execution_count": 296,
   "id": "a22222b0-a081-46ef-ab24-f5831722910e",
   "metadata": {},
   "outputs": [],
   "source": [
    "races_circuit_df = pd.merge(races, circuits, on = \"circuitId\", how=\"inner\")"
   ]
  },
  {
   "cell_type": "code",
   "execution_count": 298,
   "id": "77741f79-1528-4554-8cf3-fd145ef3256b",
   "metadata": {},
   "outputs": [
    {
     "data": {
      "text/plain": [
       "Index(['raceId', 'raceYear', 'round', 'circuitId', 'raceName', 'raceDate',\n",
       "       'circuitRef', 'circuitName', 'circuitLocation', 'country', 'lat', 'lng',\n",
       "       'alt'],\n",
       "      dtype='object')"
      ]
     },
     "execution_count": 298,
     "metadata": {},
     "output_type": "execute_result"
    }
   ],
   "source": [
    "races_circuit_df.columns"
   ]
  },
  {
   "cell_type": "code",
   "execution_count": 300,
   "id": "5bc2b51e-69a0-44f7-a9f7-4abcfd43f05c",
   "metadata": {},
   "outputs": [],
   "source": [
    "results_races_df = pd.merge(results, races_circuit_df, on = \"raceId\", how=\"inner\")"
   ]
  },
  {
   "cell_type": "code",
   "execution_count": 302,
   "id": "ed59c3bc-97aa-49b1-9241-7ff5f0fc3061",
   "metadata": {},
   "outputs": [
    {
     "data": {
      "text/plain": [
       "Index(['resultId', 'raceId', 'driverId', 'constructorId', 'grid',\n",
       "       'resultPosition', 'positionText', 'positionOrder', 'points', 'laps',\n",
       "       'time', 'milliseconds', 'fastestLap', 'rank', 'fastestLapTime',\n",
       "       'fastestLapSpeed', 'statusId', 'raceYear', 'round', 'circuitId',\n",
       "       'raceName', 'raceDate', 'circuitRef', 'circuitName', 'circuitLocation',\n",
       "       'country', 'lat', 'lng', 'alt'],\n",
       "      dtype='object')"
      ]
     },
     "execution_count": 302,
     "metadata": {},
     "output_type": "execute_result"
    }
   ],
   "source": [
    "results_races_df.columns"
   ]
  },
  {
   "cell_type": "code",
   "execution_count": 304,
   "id": "53ad798a-8fda-44a7-8471-48122990aa21",
   "metadata": {},
   "outputs": [],
   "source": [
    "results_races_drivers_df = pd.merge(results_races_df, drivers, on = \"driverId\", how=\"inner\")"
   ]
  },
  {
   "cell_type": "code",
   "execution_count": 306,
   "id": "7079194d-ba9c-4310-affc-11bb5f335190",
   "metadata": {},
   "outputs": [
    {
     "data": {
      "text/plain": [
       "Index(['resultId', 'raceId', 'driverId', 'constructorId', 'grid',\n",
       "       'resultPosition', 'positionText', 'positionOrder', 'points', 'laps',\n",
       "       'time', 'milliseconds', 'fastestLap', 'rank', 'fastestLapTime',\n",
       "       'fastestLapSpeed', 'statusId', 'raceYear', 'round', 'circuitId',\n",
       "       'raceName', 'raceDate', 'circuitRef', 'circuitName', 'circuitLocation',\n",
       "       'country', 'lat', 'lng', 'alt', 'driverRef', 'driverNumber',\n",
       "       'driverCode', 'forename', 'surname', 'driverDOB', 'driverNationality'],\n",
       "      dtype='object')"
      ]
     },
     "execution_count": 306,
     "metadata": {},
     "output_type": "execute_result"
    }
   ],
   "source": [
    "results_races_drivers_df.columns"
   ]
  },
  {
   "cell_type": "code",
   "execution_count": 308,
   "id": "f916ff6d-06c0-4237-9285-c76b0fb65075",
   "metadata": {},
   "outputs": [],
   "source": [
    "results_races_drivers_consts_df = pd.merge(results_races_drivers_df, constructors, on = \"constructorId\", how=\"inner\")"
   ]
  },
  {
   "cell_type": "code",
   "execution_count": 310,
   "id": "61378386-61ec-4577-95ec-753dc91d79f6",
   "metadata": {},
   "outputs": [
    {
     "data": {
      "text/plain": [
       "Index(['resultId', 'raceId', 'driverId', 'constructorId', 'grid',\n",
       "       'resultPosition', 'positionText', 'positionOrder', 'points', 'laps',\n",
       "       'time', 'milliseconds', 'fastestLap', 'rank', 'fastestLapTime',\n",
       "       'fastestLapSpeed', 'statusId', 'raceYear', 'round', 'circuitId',\n",
       "       'raceName', 'raceDate', 'circuitRef', 'circuitName', 'circuitLocation',\n",
       "       'country', 'lat', 'lng', 'alt', 'driverRef', 'driverNumber',\n",
       "       'driverCode', 'forename', 'surname', 'driverDOB', 'driverNationality',\n",
       "       'constructorRef', 'constructorName', 'constructorNationality'],\n",
       "      dtype='object')"
      ]
     },
     "execution_count": 310,
     "metadata": {},
     "output_type": "execute_result"
    }
   ],
   "source": [
    "results_races_drivers_consts_df.columns"
   ]
  },
  {
   "cell_type": "code",
   "execution_count": 312,
   "id": "e6d7c0b2-1f2c-40f3-b7a6-f91d0fae22b3",
   "metadata": {},
   "outputs": [],
   "source": [
    "results_races_drivers_consts_status_df = pd.merge(results_races_drivers_consts_df, status, on = \"statusId\", how=\"inner\")"
   ]
  },
  {
   "cell_type": "code",
   "execution_count": 314,
   "id": "7382a48f-3663-41b1-968d-4f7d4514543e",
   "metadata": {},
   "outputs": [
    {
     "data": {
      "text/plain": [
       "Index(['resultId', 'raceId', 'driverId', 'constructorId', 'grid',\n",
       "       'resultPosition', 'positionText', 'positionOrder', 'points', 'laps',\n",
       "       'time', 'milliseconds', 'fastestLap', 'rank', 'fastestLapTime',\n",
       "       'fastestLapSpeed', 'statusId', 'raceYear', 'round', 'circuitId',\n",
       "       'raceName', 'raceDate', 'circuitRef', 'circuitName', 'circuitLocation',\n",
       "       'country', 'lat', 'lng', 'alt', 'driverRef', 'driverNumber',\n",
       "       'driverCode', 'forename', 'surname', 'driverDOB', 'driverNationality',\n",
       "       'constructorRef', 'constructorName', 'constructorNationality',\n",
       "       'status'],\n",
       "      dtype='object')"
      ]
     },
     "execution_count": 314,
     "metadata": {},
     "output_type": "execute_result"
    }
   ],
   "source": [
    "results_races_drivers_consts_status_df.columns"
   ]
  },
  {
   "cell_type": "code",
   "execution_count": 316,
   "id": "33e76eb7-32ae-49ac-b65e-3b67471a62f7",
   "metadata": {},
   "outputs": [],
   "source": [
    "results_races_drivers_consts_status_pitstops_df = pd.merge(results_races_drivers_consts_status_df, pitstops, on = [\"raceId\", \"driverId\"], how=\"inner\")"
   ]
  },
  {
   "cell_type": "code",
   "execution_count": 318,
   "id": "9c82c157-8e93-48e6-913c-4b222ff39c7c",
   "metadata": {},
   "outputs": [
    {
     "data": {
      "text/plain": [
       "Index(['resultId', 'raceId', 'driverId', 'constructorId', 'grid',\n",
       "       'resultPosition', 'positionText', 'positionOrder', 'points', 'laps',\n",
       "       'time', 'milliseconds', 'fastestLap', 'rank', 'fastestLapTime',\n",
       "       'fastestLapSpeed', 'statusId', 'raceYear', 'round', 'circuitId',\n",
       "       'raceName', 'raceDate', 'circuitRef', 'circuitName', 'circuitLocation',\n",
       "       'country', 'lat', 'lng', 'alt', 'driverRef', 'driverNumber',\n",
       "       'driverCode', 'forename', 'surname', 'driverDOB', 'driverNationality',\n",
       "       'constructorRef', 'constructorName', 'constructorNationality', 'status',\n",
       "       'pitStopNumber', 'pitStopLap', 'pitStopTime', 'pitStopDuration',\n",
       "       'pitStopMilliseconds'],\n",
       "      dtype='object')"
      ]
     },
     "execution_count": 318,
     "metadata": {},
     "output_type": "execute_result"
    }
   ],
   "source": [
    "results_races_drivers_consts_status_pitstops_df.columns"
   ]
  },
  {
   "cell_type": "code",
   "execution_count": 320,
   "id": "95badeea-47b6-4a4b-8a03-3235139e344b",
   "metadata": {},
   "outputs": [],
   "source": [
    "final_df = pd.merge(results_races_drivers_consts_status_pitstops_df, qualifying, on = [\"raceId\", \"driverId\", \"constructorId\"], how=\"inner\")"
   ]
  },
  {
   "cell_type": "code",
   "execution_count": 322,
   "id": "e81e1565-7612-4122-8fc8-297c2a5f0a18",
   "metadata": {},
   "outputs": [
    {
     "data": {
      "text/html": [
       "<div>\n",
       "<style scoped>\n",
       "    .dataframe tbody tr th:only-of-type {\n",
       "        vertical-align: middle;\n",
       "    }\n",
       "\n",
       "    .dataframe tbody tr th {\n",
       "        vertical-align: top;\n",
       "    }\n",
       "\n",
       "    .dataframe thead th {\n",
       "        text-align: right;\n",
       "    }\n",
       "</style>\n",
       "<table border=\"1\" class=\"dataframe\">\n",
       "  <thead>\n",
       "    <tr style=\"text-align: right;\">\n",
       "      <th></th>\n",
       "      <th>resultId</th>\n",
       "      <th>raceId</th>\n",
       "      <th>driverId</th>\n",
       "      <th>constructorId</th>\n",
       "      <th>grid</th>\n",
       "      <th>resultPosition</th>\n",
       "      <th>positionText</th>\n",
       "      <th>positionOrder</th>\n",
       "      <th>points</th>\n",
       "      <th>laps</th>\n",
       "      <th>...</th>\n",
       "      <th>pitStopNumber</th>\n",
       "      <th>pitStopLap</th>\n",
       "      <th>pitStopTime</th>\n",
       "      <th>pitStopDuration</th>\n",
       "      <th>pitStopMilliseconds</th>\n",
       "      <th>qualifyId</th>\n",
       "      <th>qualifyingPosition</th>\n",
       "      <th>q1</th>\n",
       "      <th>q2</th>\n",
       "      <th>q3</th>\n",
       "    </tr>\n",
       "  </thead>\n",
       "  <tbody>\n",
       "    <tr>\n",
       "      <th>0</th>\n",
       "      <td>20779</td>\n",
       "      <td>841</td>\n",
       "      <td>20</td>\n",
       "      <td>9</td>\n",
       "      <td>1</td>\n",
       "      <td>1</td>\n",
       "      <td>1</td>\n",
       "      <td>1</td>\n",
       "      <td>25.0</td>\n",
       "      <td>58</td>\n",
       "      <td>...</td>\n",
       "      <td>1</td>\n",
       "      <td>14</td>\n",
       "      <td>17:25:17</td>\n",
       "      <td>22.603</td>\n",
       "      <td>22603</td>\n",
       "      <td>4537</td>\n",
       "      <td>1</td>\n",
       "      <td>1:25.296</td>\n",
       "      <td>1:24.090</td>\n",
       "      <td>1:23.529</td>\n",
       "    </tr>\n",
       "    <tr>\n",
       "      <th>1</th>\n",
       "      <td>20779</td>\n",
       "      <td>841</td>\n",
       "      <td>20</td>\n",
       "      <td>9</td>\n",
       "      <td>1</td>\n",
       "      <td>1</td>\n",
       "      <td>1</td>\n",
       "      <td>1</td>\n",
       "      <td>25.0</td>\n",
       "      <td>58</td>\n",
       "      <td>...</td>\n",
       "      <td>2</td>\n",
       "      <td>36</td>\n",
       "      <td>17:59:17</td>\n",
       "      <td>24.036</td>\n",
       "      <td>24036</td>\n",
       "      <td>4537</td>\n",
       "      <td>1</td>\n",
       "      <td>1:25.296</td>\n",
       "      <td>1:24.090</td>\n",
       "      <td>1:23.529</td>\n",
       "    </tr>\n",
       "    <tr>\n",
       "      <th>2</th>\n",
       "      <td>20780</td>\n",
       "      <td>841</td>\n",
       "      <td>1</td>\n",
       "      <td>1</td>\n",
       "      <td>2</td>\n",
       "      <td>2</td>\n",
       "      <td>2</td>\n",
       "      <td>2</td>\n",
       "      <td>18.0</td>\n",
       "      <td>58</td>\n",
       "      <td>...</td>\n",
       "      <td>1</td>\n",
       "      <td>16</td>\n",
       "      <td>17:28:24</td>\n",
       "      <td>23.227</td>\n",
       "      <td>23227</td>\n",
       "      <td>4538</td>\n",
       "      <td>2</td>\n",
       "      <td>1:25.384</td>\n",
       "      <td>1:24.595</td>\n",
       "      <td>1:24.307</td>\n",
       "    </tr>\n",
       "    <tr>\n",
       "      <th>3</th>\n",
       "      <td>20780</td>\n",
       "      <td>841</td>\n",
       "      <td>1</td>\n",
       "      <td>1</td>\n",
       "      <td>2</td>\n",
       "      <td>2</td>\n",
       "      <td>2</td>\n",
       "      <td>2</td>\n",
       "      <td>18.0</td>\n",
       "      <td>58</td>\n",
       "      <td>...</td>\n",
       "      <td>2</td>\n",
       "      <td>36</td>\n",
       "      <td>17:59:29</td>\n",
       "      <td>23.199</td>\n",
       "      <td>23199</td>\n",
       "      <td>4538</td>\n",
       "      <td>2</td>\n",
       "      <td>1:25.384</td>\n",
       "      <td>1:24.595</td>\n",
       "      <td>1:24.307</td>\n",
       "    </tr>\n",
       "    <tr>\n",
       "      <th>4</th>\n",
       "      <td>20781</td>\n",
       "      <td>841</td>\n",
       "      <td>808</td>\n",
       "      <td>4</td>\n",
       "      <td>6</td>\n",
       "      <td>3</td>\n",
       "      <td>3</td>\n",
       "      <td>3</td>\n",
       "      <td>15.0</td>\n",
       "      <td>58</td>\n",
       "      <td>...</td>\n",
       "      <td>1</td>\n",
       "      <td>16</td>\n",
       "      <td>17:28:39</td>\n",
       "      <td>24.535</td>\n",
       "      <td>24535</td>\n",
       "      <td>4542</td>\n",
       "      <td>6</td>\n",
       "      <td>1:25.543</td>\n",
       "      <td>1:25.582</td>\n",
       "      <td>1:25.247</td>\n",
       "    </tr>\n",
       "    <tr>\n",
       "      <th>...</th>\n",
       "      <td>...</td>\n",
       "      <td>...</td>\n",
       "      <td>...</td>\n",
       "      <td>...</td>\n",
       "      <td>...</td>\n",
       "      <td>...</td>\n",
       "      <td>...</td>\n",
       "      <td>...</td>\n",
       "      <td>...</td>\n",
       "      <td>...</td>\n",
       "      <td>...</td>\n",
       "      <td>...</td>\n",
       "      <td>...</td>\n",
       "      <td>...</td>\n",
       "      <td>...</td>\n",
       "      <td>...</td>\n",
       "      <td>...</td>\n",
       "      <td>...</td>\n",
       "      <td>...</td>\n",
       "      <td>...</td>\n",
       "      <td>...</td>\n",
       "    </tr>\n",
       "    <tr>\n",
       "      <th>8439</th>\n",
       "      <td>25222</td>\n",
       "      <td>1064</td>\n",
       "      <td>847</td>\n",
       "      <td>3</td>\n",
       "      <td>11</td>\n",
       "      <td>17</td>\n",
       "      <td>17</td>\n",
       "      <td>17</td>\n",
       "      <td>0.0</td>\n",
       "      <td>69</td>\n",
       "      <td>...</td>\n",
       "      <td>2</td>\n",
       "      <td>68</td>\n",
       "      <td>16:30:57</td>\n",
       "      <td>25.533</td>\n",
       "      <td>25533</td>\n",
       "      <td>8984</td>\n",
       "      <td>11</td>\n",
       "      <td>1:10.382</td>\n",
       "      <td>1:10.332</td>\n",
       "      <td>\\N</td>\n",
       "    </tr>\n",
       "    <tr>\n",
       "      <th>8440</th>\n",
       "      <td>25223</td>\n",
       "      <td>1064</td>\n",
       "      <td>854</td>\n",
       "      <td>210</td>\n",
       "      <td>17</td>\n",
       "      <td>18</td>\n",
       "      <td>18</td>\n",
       "      <td>18</td>\n",
       "      <td>0.0</td>\n",
       "      <td>69</td>\n",
       "      <td>...</td>\n",
       "      <td>1</td>\n",
       "      <td>4</td>\n",
       "      <td>15:08:42</td>\n",
       "      <td>35.573</td>\n",
       "      <td>35573</td>\n",
       "      <td>8992</td>\n",
       "      <td>19</td>\n",
       "      <td>1:11.387</td>\n",
       "      <td>\\N</td>\n",
       "      <td>\\N</td>\n",
       "    </tr>\n",
       "    <tr>\n",
       "      <th>8441</th>\n",
       "      <td>25223</td>\n",
       "      <td>1064</td>\n",
       "      <td>854</td>\n",
       "      <td>210</td>\n",
       "      <td>17</td>\n",
       "      <td>18</td>\n",
       "      <td>18</td>\n",
       "      <td>18</td>\n",
       "      <td>0.0</td>\n",
       "      <td>69</td>\n",
       "      <td>...</td>\n",
       "      <td>2</td>\n",
       "      <td>30</td>\n",
       "      <td>15:43:39</td>\n",
       "      <td>24.578</td>\n",
       "      <td>24578</td>\n",
       "      <td>8992</td>\n",
       "      <td>19</td>\n",
       "      <td>1:11.387</td>\n",
       "      <td>\\N</td>\n",
       "      <td>\\N</td>\n",
       "    </tr>\n",
       "    <tr>\n",
       "      <th>8442</th>\n",
       "      <td>25224</td>\n",
       "      <td>1064</td>\n",
       "      <td>852</td>\n",
       "      <td>213</td>\n",
       "      <td>14</td>\n",
       "      <td>\\N</td>\n",
       "      <td>R</td>\n",
       "      <td>19</td>\n",
       "      <td>0.0</td>\n",
       "      <td>48</td>\n",
       "      <td>...</td>\n",
       "      <td>1</td>\n",
       "      <td>31</td>\n",
       "      <td>15:43:30</td>\n",
       "      <td>19.850</td>\n",
       "      <td>19850</td>\n",
       "      <td>8988</td>\n",
       "      <td>15</td>\n",
       "      <td>1:10.462</td>\n",
       "      <td>1:11.314</td>\n",
       "      <td>\\N</td>\n",
       "    </tr>\n",
       "    <tr>\n",
       "      <th>8443</th>\n",
       "      <td>25225</td>\n",
       "      <td>1064</td>\n",
       "      <td>853</td>\n",
       "      <td>210</td>\n",
       "      <td>18</td>\n",
       "      <td>\\N</td>\n",
       "      <td>R</td>\n",
       "      <td>20</td>\n",
       "      <td>0.0</td>\n",
       "      <td>41</td>\n",
       "      <td>...</td>\n",
       "      <td>1</td>\n",
       "      <td>33</td>\n",
       "      <td>15:46:35</td>\n",
       "      <td>19.999</td>\n",
       "      <td>19999</td>\n",
       "      <td>8993</td>\n",
       "      <td>20</td>\n",
       "      <td>1:11.875</td>\n",
       "      <td>\\N</td>\n",
       "      <td>\\N</td>\n",
       "    </tr>\n",
       "  </tbody>\n",
       "</table>\n",
       "<p>8444 rows × 50 columns</p>\n",
       "</div>"
      ],
      "text/plain": [
       "      resultId  raceId  driverId  constructorId  grid resultPosition  \\\n",
       "0        20779     841        20              9     1              1   \n",
       "1        20779     841        20              9     1              1   \n",
       "2        20780     841         1              1     2              2   \n",
       "3        20780     841         1              1     2              2   \n",
       "4        20781     841       808              4     6              3   \n",
       "...        ...     ...       ...            ...   ...            ...   \n",
       "8439     25222    1064       847              3    11             17   \n",
       "8440     25223    1064       854            210    17             18   \n",
       "8441     25223    1064       854            210    17             18   \n",
       "8442     25224    1064       852            213    14             \\N   \n",
       "8443     25225    1064       853            210    18             \\N   \n",
       "\n",
       "     positionText  positionOrder  points  laps  ... pitStopNumber pitStopLap  \\\n",
       "0               1              1    25.0    58  ...             1         14   \n",
       "1               1              1    25.0    58  ...             2         36   \n",
       "2               2              2    18.0    58  ...             1         16   \n",
       "3               2              2    18.0    58  ...             2         36   \n",
       "4               3              3    15.0    58  ...             1         16   \n",
       "...           ...            ...     ...   ...  ...           ...        ...   \n",
       "8439           17             17     0.0    69  ...             2         68   \n",
       "8440           18             18     0.0    69  ...             1          4   \n",
       "8441           18             18     0.0    69  ...             2         30   \n",
       "8442            R             19     0.0    48  ...             1         31   \n",
       "8443            R             20     0.0    41  ...             1         33   \n",
       "\n",
       "     pitStopTime pitStopDuration pitStopMilliseconds qualifyId  \\\n",
       "0       17:25:17          22.603               22603      4537   \n",
       "1       17:59:17          24.036               24036      4537   \n",
       "2       17:28:24          23.227               23227      4538   \n",
       "3       17:59:29          23.199               23199      4538   \n",
       "4       17:28:39          24.535               24535      4542   \n",
       "...          ...             ...                 ...       ...   \n",
       "8439    16:30:57          25.533               25533      8984   \n",
       "8440    15:08:42          35.573               35573      8992   \n",
       "8441    15:43:39          24.578               24578      8992   \n",
       "8442    15:43:30          19.850               19850      8988   \n",
       "8443    15:46:35          19.999               19999      8993   \n",
       "\n",
       "      qualifyingPosition        q1        q2        q3  \n",
       "0                      1  1:25.296  1:24.090  1:23.529  \n",
       "1                      1  1:25.296  1:24.090  1:23.529  \n",
       "2                      2  1:25.384  1:24.595  1:24.307  \n",
       "3                      2  1:25.384  1:24.595  1:24.307  \n",
       "4                      6  1:25.543  1:25.582  1:25.247  \n",
       "...                  ...       ...       ...       ...  \n",
       "8439                  11  1:10.382  1:10.332        \\N  \n",
       "8440                  19  1:11.387        \\N        \\N  \n",
       "8441                  19  1:11.387        \\N        \\N  \n",
       "8442                  15  1:10.462  1:11.314        \\N  \n",
       "8443                  20  1:11.875        \\N        \\N  \n",
       "\n",
       "[8444 rows x 50 columns]"
      ]
     },
     "execution_count": 322,
     "metadata": {},
     "output_type": "execute_result"
    }
   ],
   "source": [
    "final_df"
   ]
  },
  {
   "cell_type": "code",
   "execution_count": 324,
   "id": "6d7e36c7-32ce-4969-b2ff-ec49c4d09642",
   "metadata": {},
   "outputs": [
    {
     "data": {
      "text/plain": [
       "Index(['resultId', 'raceId', 'driverId', 'constructorId', 'grid',\n",
       "       'resultPosition', 'positionText', 'positionOrder', 'points', 'laps',\n",
       "       'time', 'milliseconds', 'fastestLap', 'rank', 'fastestLapTime',\n",
       "       'fastestLapSpeed', 'statusId', 'raceYear', 'round', 'circuitId',\n",
       "       'raceName', 'raceDate', 'circuitRef', 'circuitName', 'circuitLocation',\n",
       "       'country', 'lat', 'lng', 'alt', 'driverRef', 'driverNumber',\n",
       "       'driverCode', 'forename', 'surname', 'driverDOB', 'driverNationality',\n",
       "       'constructorRef', 'constructorName', 'constructorNationality', 'status',\n",
       "       'pitStopNumber', 'pitStopLap', 'pitStopTime', 'pitStopDuration',\n",
       "       'pitStopMilliseconds', 'qualifyId', 'qualifyingPosition', 'q1', 'q2',\n",
       "       'q3'],\n",
       "      dtype='object')"
      ]
     },
     "execution_count": 324,
     "metadata": {},
     "output_type": "execute_result"
    }
   ],
   "source": [
    "final_df.columns"
   ]
  },
  {
   "cell_type": "code",
   "execution_count": 326,
   "id": "496a84ab-1cb5-4197-b0e7-63e25ac8cc75",
   "metadata": {},
   "outputs": [],
   "source": [
    "final_df.to_csv(\"formula1.csv\")"
   ]
  },
  {
   "cell_type": "code",
   "execution_count": null,
   "id": "8c9d08ae-9970-4a76-8ec0-abc70512b84b",
   "metadata": {},
   "outputs": [],
   "source": []
  }
 ],
 "metadata": {
  "kernelspec": {
   "display_name": "Python 3 (ipykernel)",
   "language": "python",
   "name": "python3"
  },
  "language_info": {
   "codemirror_mode": {
    "name": "ipython",
    "version": 3
   },
   "file_extension": ".py",
   "mimetype": "text/x-python",
   "name": "python",
   "nbconvert_exporter": "python",
   "pygments_lexer": "ipython3",
   "version": "3.12.4"
  }
 },
 "nbformat": 4,
 "nbformat_minor": 5
}
