{
 "cells": [
  {
   "cell_type": "code",
   "execution_count": 158,
   "id": "85e92278-bb7e-40bc-95a4-0b0b3a8ab0fd",
   "metadata": {},
   "outputs": [],
   "source": [
    "import pandas as pd\n",
    "from datetime import datetime"
   ]
  },
  {
   "cell_type": "code",
   "execution_count": 160,
   "id": "9d66439e-252a-4221-af56-f5fd4b6323e9",
   "metadata": {},
   "outputs": [],
   "source": [
    "circuits = pd.read_csv(\"circuits.csv\")\n",
    "constructors = pd.read_csv(\"constructors.csv\")\n",
    "drivers = pd.read_csv(\"drivers.csv\")\n",
    "races = pd.read_csv(\"races.csv\")\n",
    "results = pd.read_csv(\"results.csv\")\n",
    "qualifying = pd.read_csv(\"qualifying.csv\")\n",
    "#pitstops = pd.read_csv(\"pit_stops.csv\")\n",
    "status = pd.read_csv(\"status.csv\")\n",
    "driver_origins = pd.read_csv(\"unique_driver_details.csv\")\n",
    "constructor_origins = pd.read_csv(\"unique_constructor_details.csv\")\n",
    "driver_standings = pd.read_csv(\"driver_standings.csv\")"
   ]
  },
  {
   "cell_type": "code",
   "execution_count": 161,
   "id": "d35e06f3-dbd7-4405-9cf9-6ce805b21636",
   "metadata": {},
   "outputs": [],
   "source": [
    "races = races.drop(columns=[\"url\", \"time\"])\n",
    "races = races.rename(columns={\"name\": \"raceName\", \"year\":\"raceYear\", \"date\":\"raceDate\"})"
   ]
  },
  {
   "cell_type": "code",
   "execution_count": 162,
   "id": "78b3c2b1-fbd3-421e-b466-9b7b0f082a3d",
   "metadata": {},
   "outputs": [],
   "source": [
    "circuits = circuits.drop(columns=[\"url\"])\n",
    "circuits = circuits.rename(columns={\"name\": \"circuitName\", \"location\": \"circuitLocation\"})"
   ]
  },
  {
   "cell_type": "code",
   "execution_count": 166,
   "id": "edaaa9e7-76d4-4b39-aa97-588976d16775",
   "metadata": {},
   "outputs": [],
   "source": [
    "drivers = drivers.drop(columns=[\"url\"])\n",
    "drivers = drivers.rename(columns={\"dob\": \"driverDOB\", \"nationality\":\"driverNationality\", \"code\": \"driverCode\", \"number\": \"driverNumber\"})"
   ]
  },
  {
   "cell_type": "code",
   "execution_count": 167,
   "id": "65439e11-4c8b-4e5a-9490-0ced3f150394",
   "metadata": {},
   "outputs": [],
   "source": [
    "results = results.drop(columns=[\"number\"])\n",
    "results = results.rename(columns={\"position\": \"resultPosition\"})"
   ]
  },
  {
   "cell_type": "code",
   "execution_count": 170,
   "id": "f96e1ce8-a28f-4711-b61c-feec24e96319",
   "metadata": {},
   "outputs": [],
   "source": [
    "constructors = constructors.drop(columns=[\"url\"])\n",
    "constructors = constructors.rename(columns={\"name\": \"constructorName\", \"nationality\":\"constructorNationality\"})"
   ]
  },
  {
   "cell_type": "code",
   "execution_count": 172,
   "id": "3bbc51cb-714e-412c-a63f-d62c5b00f736",
   "metadata": {},
   "outputs": [],
   "source": [
    "qualifying = qualifying.drop(columns=[\"number\"])\n",
    "qualifying = qualifying.rename(columns={\"position\": \"qualifyingPosition\"})"
   ]
  },
  {
   "cell_type": "code",
   "execution_count": 174,
   "id": "6ac3c879-b994-4b4a-91a8-b3f5cb4bd015",
   "metadata": {},
   "outputs": [],
   "source": [
    "#pitstops = pitstops.rename(columns={\"lap\": \"pitStopLap\", \"stop\":\"pitStopNumber\", \"time\": \"pitStopTime\", \"duration\": \"pitStopDuration\", \"milliseconds\": \"pitStopMilliseconds\"})"
   ]
  },
  {
   "cell_type": "code",
   "execution_count": 176,
   "id": "a22222b0-a081-46ef-ab24-f5831722910e",
   "metadata": {},
   "outputs": [],
   "source": [
    "races_circuit_df = pd.merge(races, circuits, on = \"circuitId\", how=\"inner\")"
   ]
  },
  {
   "cell_type": "code",
   "execution_count": 178,
   "id": "77741f79-1528-4554-8cf3-fd145ef3256b",
   "metadata": {},
   "outputs": [
    {
     "data": {
      "text/plain": [
       "Index(['raceId', 'raceYear', 'round', 'circuitId', 'raceName', 'raceDate',\n",
       "       'circuitRef', 'circuitName', 'circuitLocation', 'country', 'lat', 'lng',\n",
       "       'alt'],\n",
       "      dtype='object')"
      ]
     },
     "execution_count": 178,
     "metadata": {},
     "output_type": "execute_result"
    }
   ],
   "source": [
    "races_circuit_df.columns"
   ]
  },
  {
   "cell_type": "code",
   "execution_count": 180,
   "id": "5bc2b51e-69a0-44f7-a9f7-4abcfd43f05c",
   "metadata": {},
   "outputs": [],
   "source": [
    "results_races_df = pd.merge(results, races_circuit_df, on = \"raceId\", how=\"inner\")"
   ]
  },
  {
   "cell_type": "code",
   "execution_count": 182,
   "id": "ed59c3bc-97aa-49b1-9241-7ff5f0fc3061",
   "metadata": {},
   "outputs": [
    {
     "data": {
      "text/plain": [
       "Index(['resultId', 'raceId', 'driverId', 'constructorId', 'grid',\n",
       "       'resultPosition', 'positionText', 'positionOrder', 'points', 'laps',\n",
       "       'time', 'milliseconds', 'fastestLap', 'rank', 'fastestLapTime',\n",
       "       'fastestLapSpeed', 'statusId', 'raceYear', 'round', 'circuitId',\n",
       "       'raceName', 'raceDate', 'circuitRef', 'circuitName', 'circuitLocation',\n",
       "       'country', 'lat', 'lng', 'alt'],\n",
       "      dtype='object')"
      ]
     },
     "execution_count": 182,
     "metadata": {},
     "output_type": "execute_result"
    }
   ],
   "source": [
    "results_races_df.columns"
   ]
  },
  {
   "cell_type": "code",
   "execution_count": 184,
   "id": "53ad798a-8fda-44a7-8471-48122990aa21",
   "metadata": {},
   "outputs": [],
   "source": [
    "results_races_drivers_df = pd.merge(results_races_df, drivers, on = \"driverId\", how=\"inner\")"
   ]
  },
  {
   "cell_type": "code",
   "execution_count": 186,
   "id": "7079194d-ba9c-4310-affc-11bb5f335190",
   "metadata": {},
   "outputs": [
    {
     "data": {
      "text/plain": [
       "Index(['resultId', 'raceId', 'driverId', 'constructorId', 'grid',\n",
       "       'resultPosition', 'positionText', 'positionOrder', 'points', 'laps',\n",
       "       'time', 'milliseconds', 'fastestLap', 'rank', 'fastestLapTime',\n",
       "       'fastestLapSpeed', 'statusId', 'raceYear', 'round', 'circuitId',\n",
       "       'raceName', 'raceDate', 'circuitRef', 'circuitName', 'circuitLocation',\n",
       "       'country', 'lat', 'lng', 'alt', 'driverRef', 'driverNumber',\n",
       "       'driverCode', 'forename', 'surname', 'driverDOB', 'driverNationality'],\n",
       "      dtype='object')"
      ]
     },
     "execution_count": 186,
     "metadata": {},
     "output_type": "execute_result"
    }
   ],
   "source": [
    "results_races_drivers_df.columns"
   ]
  },
  {
   "cell_type": "code",
   "execution_count": 188,
   "id": "f916ff6d-06c0-4237-9285-c76b0fb65075",
   "metadata": {},
   "outputs": [],
   "source": [
    "results_races_drivers_consts_df = pd.merge(results_races_drivers_df, constructors, on = \"constructorId\", how=\"inner\")"
   ]
  },
  {
   "cell_type": "code",
   "execution_count": 190,
   "id": "61378386-61ec-4577-95ec-753dc91d79f6",
   "metadata": {},
   "outputs": [
    {
     "data": {
      "text/plain": [
       "Index(['resultId', 'raceId', 'driverId', 'constructorId', 'grid',\n",
       "       'resultPosition', 'positionText', 'positionOrder', 'points', 'laps',\n",
       "       'time', 'milliseconds', 'fastestLap', 'rank', 'fastestLapTime',\n",
       "       'fastestLapSpeed', 'statusId', 'raceYear', 'round', 'circuitId',\n",
       "       'raceName', 'raceDate', 'circuitRef', 'circuitName', 'circuitLocation',\n",
       "       'country', 'lat', 'lng', 'alt', 'driverRef', 'driverNumber',\n",
       "       'driverCode', 'forename', 'surname', 'driverDOB', 'driverNationality',\n",
       "       'constructorRef', 'constructorName', 'constructorNationality'],\n",
       "      dtype='object')"
      ]
     },
     "execution_count": 190,
     "metadata": {},
     "output_type": "execute_result"
    }
   ],
   "source": [
    "results_races_drivers_consts_df.columns"
   ]
  },
  {
   "cell_type": "code",
   "execution_count": 192,
   "id": "e6d7c0b2-1f2c-40f3-b7a6-f91d0fae22b3",
   "metadata": {},
   "outputs": [],
   "source": [
    "results_races_drivers_consts_status_df = pd.merge(results_races_drivers_consts_df, status, on = \"statusId\", how=\"inner\")"
   ]
  },
  {
   "cell_type": "code",
   "execution_count": 194,
   "id": "7382a48f-3663-41b1-968d-4f7d4514543e",
   "metadata": {},
   "outputs": [
    {
     "data": {
      "text/plain": [
       "Index(['resultId', 'raceId', 'driverId', 'constructorId', 'grid',\n",
       "       'resultPosition', 'positionText', 'positionOrder', 'points', 'laps',\n",
       "       'time', 'milliseconds', 'fastestLap', 'rank', 'fastestLapTime',\n",
       "       'fastestLapSpeed', 'statusId', 'raceYear', 'round', 'circuitId',\n",
       "       'raceName', 'raceDate', 'circuitRef', 'circuitName', 'circuitLocation',\n",
       "       'country', 'lat', 'lng', 'alt', 'driverRef', 'driverNumber',\n",
       "       'driverCode', 'forename', 'surname', 'driverDOB', 'driverNationality',\n",
       "       'constructorRef', 'constructorName', 'constructorNationality',\n",
       "       'status'],\n",
       "      dtype='object')"
      ]
     },
     "execution_count": 194,
     "metadata": {},
     "output_type": "execute_result"
    }
   ],
   "source": [
    "results_races_drivers_consts_status_df.columns"
   ]
  },
  {
   "cell_type": "code",
   "execution_count": 196,
   "id": "33e76eb7-32ae-49ac-b65e-3b67471a62f7",
   "metadata": {},
   "outputs": [],
   "source": [
    "#results_races_drivers_consts_status_pitstops_df = pd.merge(results_races_drivers_consts_status_df, pitstops, on = [\"raceId\", \"driverId\"], how=\"inner\")"
   ]
  },
  {
   "cell_type": "code",
   "execution_count": 198,
   "id": "9c82c157-8e93-48e6-913c-4b222ff39c7c",
   "metadata": {},
   "outputs": [],
   "source": [
    "#results_races_drivers_consts_status_pitstops_df.columns"
   ]
  },
  {
   "cell_type": "code",
   "execution_count": 200,
   "id": "95badeea-47b6-4a4b-8a03-3235139e344b",
   "metadata": {},
   "outputs": [],
   "source": [
    "final_df = pd.merge(results_races_drivers_consts_status_df, qualifying, on = [\"raceId\", \"driverId\", \"constructorId\"], how=\"inner\")"
   ]
  },
  {
   "cell_type": "code",
   "execution_count": 202,
   "id": "54100d66-31a6-48cd-a04e-1dd1fea63ef9",
   "metadata": {},
   "outputs": [],
   "source": [
    "# final_df['driverDOB'] = pd.to_datetime(final_df['driverDOB'], format='%Y-%m-%d')\n",
    "# def calculate_age(dob):\n",
    "#     today = datetime(raceDate)\n",
    "#     age = today.year - dob.year - ((today.month, today.day) < (dob.month, dob.day))\n",
    "#     return age\n",
    "# final_df['driverAge'] = final_df['driverDOB'].apply(calculate_age)"
   ]
  },
  {
   "cell_type": "code",
   "execution_count": 204,
   "id": "e81e1565-7612-4122-8fc8-297c2a5f0a18",
   "metadata": {},
   "outputs": [
    {
     "data": {
      "text/html": [
       "<div>\n",
       "<style scoped>\n",
       "    .dataframe tbody tr th:only-of-type {\n",
       "        vertical-align: middle;\n",
       "    }\n",
       "\n",
       "    .dataframe tbody tr th {\n",
       "        vertical-align: top;\n",
       "    }\n",
       "\n",
       "    .dataframe thead th {\n",
       "        text-align: right;\n",
       "    }\n",
       "</style>\n",
       "<table border=\"1\" class=\"dataframe\">\n",
       "  <thead>\n",
       "    <tr style=\"text-align: right;\">\n",
       "      <th></th>\n",
       "      <th>resultId</th>\n",
       "      <th>raceId</th>\n",
       "      <th>driverId</th>\n",
       "      <th>constructorId</th>\n",
       "      <th>grid</th>\n",
       "      <th>resultPosition</th>\n",
       "      <th>positionText</th>\n",
       "      <th>positionOrder</th>\n",
       "      <th>points</th>\n",
       "      <th>laps</th>\n",
       "      <th>...</th>\n",
       "      <th>driverNationality</th>\n",
       "      <th>constructorRef</th>\n",
       "      <th>constructorName</th>\n",
       "      <th>constructorNationality</th>\n",
       "      <th>status</th>\n",
       "      <th>qualifyId</th>\n",
       "      <th>qualifyingPosition</th>\n",
       "      <th>q1</th>\n",
       "      <th>q2</th>\n",
       "      <th>q3</th>\n",
       "    </tr>\n",
       "  </thead>\n",
       "  <tbody>\n",
       "    <tr>\n",
       "      <th>0</th>\n",
       "      <td>1</td>\n",
       "      <td>18</td>\n",
       "      <td>1</td>\n",
       "      <td>1</td>\n",
       "      <td>1</td>\n",
       "      <td>1</td>\n",
       "      <td>1</td>\n",
       "      <td>1</td>\n",
       "      <td>10.0</td>\n",
       "      <td>58</td>\n",
       "      <td>...</td>\n",
       "      <td>British</td>\n",
       "      <td>mclaren</td>\n",
       "      <td>McLaren</td>\n",
       "      <td>British</td>\n",
       "      <td>Finished</td>\n",
       "      <td>1</td>\n",
       "      <td>1</td>\n",
       "      <td>1:26.572</td>\n",
       "      <td>1:25.187</td>\n",
       "      <td>1:26.714</td>\n",
       "    </tr>\n",
       "    <tr>\n",
       "      <th>1</th>\n",
       "      <td>2</td>\n",
       "      <td>18</td>\n",
       "      <td>2</td>\n",
       "      <td>2</td>\n",
       "      <td>5</td>\n",
       "      <td>2</td>\n",
       "      <td>2</td>\n",
       "      <td>2</td>\n",
       "      <td>8.0</td>\n",
       "      <td>58</td>\n",
       "      <td>...</td>\n",
       "      <td>German</td>\n",
       "      <td>bmw_sauber</td>\n",
       "      <td>BMW Sauber</td>\n",
       "      <td>German</td>\n",
       "      <td>Finished</td>\n",
       "      <td>5</td>\n",
       "      <td>5</td>\n",
       "      <td>1:25.960</td>\n",
       "      <td>1:25.518</td>\n",
       "      <td>1:27.236</td>\n",
       "    </tr>\n",
       "    <tr>\n",
       "      <th>2</th>\n",
       "      <td>3</td>\n",
       "      <td>18</td>\n",
       "      <td>3</td>\n",
       "      <td>3</td>\n",
       "      <td>7</td>\n",
       "      <td>3</td>\n",
       "      <td>3</td>\n",
       "      <td>3</td>\n",
       "      <td>6.0</td>\n",
       "      <td>58</td>\n",
       "      <td>...</td>\n",
       "      <td>German</td>\n",
       "      <td>williams</td>\n",
       "      <td>Williams</td>\n",
       "      <td>British</td>\n",
       "      <td>Finished</td>\n",
       "      <td>7</td>\n",
       "      <td>7</td>\n",
       "      <td>1:26.295</td>\n",
       "      <td>1:26.059</td>\n",
       "      <td>1:28.687</td>\n",
       "    </tr>\n",
       "    <tr>\n",
       "      <th>3</th>\n",
       "      <td>4</td>\n",
       "      <td>18</td>\n",
       "      <td>4</td>\n",
       "      <td>4</td>\n",
       "      <td>11</td>\n",
       "      <td>4</td>\n",
       "      <td>4</td>\n",
       "      <td>4</td>\n",
       "      <td>5.0</td>\n",
       "      <td>58</td>\n",
       "      <td>...</td>\n",
       "      <td>Spanish</td>\n",
       "      <td>renault</td>\n",
       "      <td>Renault</td>\n",
       "      <td>French</td>\n",
       "      <td>Finished</td>\n",
       "      <td>12</td>\n",
       "      <td>12</td>\n",
       "      <td>1:26.907</td>\n",
       "      <td>1:26.188</td>\n",
       "      <td>\\N</td>\n",
       "    </tr>\n",
       "    <tr>\n",
       "      <th>4</th>\n",
       "      <td>5</td>\n",
       "      <td>18</td>\n",
       "      <td>5</td>\n",
       "      <td>1</td>\n",
       "      <td>3</td>\n",
       "      <td>5</td>\n",
       "      <td>5</td>\n",
       "      <td>5</td>\n",
       "      <td>4.0</td>\n",
       "      <td>58</td>\n",
       "      <td>...</td>\n",
       "      <td>Finnish</td>\n",
       "      <td>mclaren</td>\n",
       "      <td>McLaren</td>\n",
       "      <td>British</td>\n",
       "      <td>Finished</td>\n",
       "      <td>3</td>\n",
       "      <td>3</td>\n",
       "      <td>1:25.664</td>\n",
       "      <td>1:25.452</td>\n",
       "      <td>1:27.079</td>\n",
       "    </tr>\n",
       "    <tr>\n",
       "      <th>...</th>\n",
       "      <td>...</td>\n",
       "      <td>...</td>\n",
       "      <td>...</td>\n",
       "      <td>...</td>\n",
       "      <td>...</td>\n",
       "      <td>...</td>\n",
       "      <td>...</td>\n",
       "      <td>...</td>\n",
       "      <td>...</td>\n",
       "      <td>...</td>\n",
       "      <td>...</td>\n",
       "      <td>...</td>\n",
       "      <td>...</td>\n",
       "      <td>...</td>\n",
       "      <td>...</td>\n",
       "      <td>...</td>\n",
       "      <td>...</td>\n",
       "      <td>...</td>\n",
       "      <td>...</td>\n",
       "      <td>...</td>\n",
       "      <td>...</td>\n",
       "    </tr>\n",
       "    <tr>\n",
       "      <th>8938</th>\n",
       "      <td>25221</td>\n",
       "      <td>1064</td>\n",
       "      <td>849</td>\n",
       "      <td>3</td>\n",
       "      <td>0</td>\n",
       "      <td>16</td>\n",
       "      <td>16</td>\n",
       "      <td>16</td>\n",
       "      <td>0.0</td>\n",
       "      <td>70</td>\n",
       "      <td>...</td>\n",
       "      <td>Canadian</td>\n",
       "      <td>williams</td>\n",
       "      <td>Williams</td>\n",
       "      <td>British</td>\n",
       "      <td>+2 Laps</td>\n",
       "      <td>8987</td>\n",
       "      <td>14</td>\n",
       "      <td>1:10.093</td>\n",
       "      <td>1:11.161</td>\n",
       "      <td>\\N</td>\n",
       "    </tr>\n",
       "    <tr>\n",
       "      <th>8939</th>\n",
       "      <td>25222</td>\n",
       "      <td>1064</td>\n",
       "      <td>847</td>\n",
       "      <td>3</td>\n",
       "      <td>11</td>\n",
       "      <td>17</td>\n",
       "      <td>17</td>\n",
       "      <td>17</td>\n",
       "      <td>0.0</td>\n",
       "      <td>69</td>\n",
       "      <td>...</td>\n",
       "      <td>British</td>\n",
       "      <td>williams</td>\n",
       "      <td>Williams</td>\n",
       "      <td>British</td>\n",
       "      <td>Gearbox</td>\n",
       "      <td>8984</td>\n",
       "      <td>11</td>\n",
       "      <td>1:10.382</td>\n",
       "      <td>1:10.332</td>\n",
       "      <td>\\N</td>\n",
       "    </tr>\n",
       "    <tr>\n",
       "      <th>8940</th>\n",
       "      <td>25223</td>\n",
       "      <td>1064</td>\n",
       "      <td>854</td>\n",
       "      <td>210</td>\n",
       "      <td>17</td>\n",
       "      <td>18</td>\n",
       "      <td>18</td>\n",
       "      <td>18</td>\n",
       "      <td>0.0</td>\n",
       "      <td>69</td>\n",
       "      <td>...</td>\n",
       "      <td>German</td>\n",
       "      <td>haas</td>\n",
       "      <td>Haas F1 Team</td>\n",
       "      <td>American</td>\n",
       "      <td>+3 Laps</td>\n",
       "      <td>8992</td>\n",
       "      <td>19</td>\n",
       "      <td>1:11.387</td>\n",
       "      <td>\\N</td>\n",
       "      <td>\\N</td>\n",
       "    </tr>\n",
       "    <tr>\n",
       "      <th>8941</th>\n",
       "      <td>25224</td>\n",
       "      <td>1064</td>\n",
       "      <td>852</td>\n",
       "      <td>213</td>\n",
       "      <td>14</td>\n",
       "      <td>\\N</td>\n",
       "      <td>R</td>\n",
       "      <td>19</td>\n",
       "      <td>0.0</td>\n",
       "      <td>48</td>\n",
       "      <td>...</td>\n",
       "      <td>Japanese</td>\n",
       "      <td>alphatauri</td>\n",
       "      <td>AlphaTauri</td>\n",
       "      <td>Italian</td>\n",
       "      <td>Power Unit</td>\n",
       "      <td>8988</td>\n",
       "      <td>15</td>\n",
       "      <td>1:10.462</td>\n",
       "      <td>1:11.314</td>\n",
       "      <td>\\N</td>\n",
       "    </tr>\n",
       "    <tr>\n",
       "      <th>8942</th>\n",
       "      <td>25225</td>\n",
       "      <td>1064</td>\n",
       "      <td>853</td>\n",
       "      <td>210</td>\n",
       "      <td>18</td>\n",
       "      <td>\\N</td>\n",
       "      <td>R</td>\n",
       "      <td>20</td>\n",
       "      <td>0.0</td>\n",
       "      <td>41</td>\n",
       "      <td>...</td>\n",
       "      <td>Russian</td>\n",
       "      <td>haas</td>\n",
       "      <td>Haas F1 Team</td>\n",
       "      <td>American</td>\n",
       "      <td>Hydraulics</td>\n",
       "      <td>8993</td>\n",
       "      <td>20</td>\n",
       "      <td>1:11.875</td>\n",
       "      <td>\\N</td>\n",
       "      <td>\\N</td>\n",
       "    </tr>\n",
       "  </tbody>\n",
       "</table>\n",
       "<p>8943 rows × 45 columns</p>\n",
       "</div>"
      ],
      "text/plain": [
       "      resultId  raceId  driverId  constructorId  grid resultPosition  \\\n",
       "0            1      18         1              1     1              1   \n",
       "1            2      18         2              2     5              2   \n",
       "2            3      18         3              3     7              3   \n",
       "3            4      18         4              4    11              4   \n",
       "4            5      18         5              1     3              5   \n",
       "...        ...     ...       ...            ...   ...            ...   \n",
       "8938     25221    1064       849              3     0             16   \n",
       "8939     25222    1064       847              3    11             17   \n",
       "8940     25223    1064       854            210    17             18   \n",
       "8941     25224    1064       852            213    14             \\N   \n",
       "8942     25225    1064       853            210    18             \\N   \n",
       "\n",
       "     positionText  positionOrder  points  laps  ... driverNationality  \\\n",
       "0               1              1    10.0    58  ...           British   \n",
       "1               2              2     8.0    58  ...            German   \n",
       "2               3              3     6.0    58  ...            German   \n",
       "3               4              4     5.0    58  ...           Spanish   \n",
       "4               5              5     4.0    58  ...           Finnish   \n",
       "...           ...            ...     ...   ...  ...               ...   \n",
       "8938           16             16     0.0    70  ...          Canadian   \n",
       "8939           17             17     0.0    69  ...           British   \n",
       "8940           18             18     0.0    69  ...            German   \n",
       "8941            R             19     0.0    48  ...          Japanese   \n",
       "8942            R             20     0.0    41  ...           Russian   \n",
       "\n",
       "     constructorRef constructorName constructorNationality      status  \\\n",
       "0           mclaren         McLaren                British    Finished   \n",
       "1        bmw_sauber      BMW Sauber                 German    Finished   \n",
       "2          williams        Williams                British    Finished   \n",
       "3           renault         Renault                 French    Finished   \n",
       "4           mclaren         McLaren                British    Finished   \n",
       "...             ...             ...                    ...         ...   \n",
       "8938       williams        Williams                British     +2 Laps   \n",
       "8939       williams        Williams                British     Gearbox   \n",
       "8940           haas    Haas F1 Team               American     +3 Laps   \n",
       "8941     alphatauri      AlphaTauri                Italian  Power Unit   \n",
       "8942           haas    Haas F1 Team               American  Hydraulics   \n",
       "\n",
       "     qualifyId  qualifyingPosition        q1        q2        q3  \n",
       "0            1                   1  1:26.572  1:25.187  1:26.714  \n",
       "1            5                   5  1:25.960  1:25.518  1:27.236  \n",
       "2            7                   7  1:26.295  1:26.059  1:28.687  \n",
       "3           12                  12  1:26.907  1:26.188        \\N  \n",
       "4            3                   3  1:25.664  1:25.452  1:27.079  \n",
       "...        ...                 ...       ...       ...       ...  \n",
       "8938      8987                  14  1:10.093  1:11.161        \\N  \n",
       "8939      8984                  11  1:10.382  1:10.332        \\N  \n",
       "8940      8992                  19  1:11.387        \\N        \\N  \n",
       "8941      8988                  15  1:10.462  1:11.314        \\N  \n",
       "8942      8993                  20  1:11.875        \\N        \\N  \n",
       "\n",
       "[8943 rows x 45 columns]"
      ]
     },
     "execution_count": 204,
     "metadata": {},
     "output_type": "execute_result"
    }
   ],
   "source": [
    "final_df"
   ]
  },
  {
   "cell_type": "code",
   "execution_count": 206,
   "id": "6d7e36c7-32ce-4969-b2ff-ec49c4d09642",
   "metadata": {},
   "outputs": [
    {
     "data": {
      "text/plain": [
       "Index(['resultId', 'raceId', 'driverId', 'constructorId', 'grid',\n",
       "       'resultPosition', 'positionText', 'positionOrder', 'points', 'laps',\n",
       "       'time', 'milliseconds', 'fastestLap', 'rank', 'fastestLapTime',\n",
       "       'fastestLapSpeed', 'statusId', 'raceYear', 'round', 'circuitId',\n",
       "       'raceName', 'raceDate', 'circuitRef', 'circuitName', 'circuitLocation',\n",
       "       'country', 'lat', 'lng', 'alt', 'driverRef', 'driverNumber',\n",
       "       'driverCode', 'forename', 'surname', 'driverDOB', 'driverNationality',\n",
       "       'constructorRef', 'constructorName', 'constructorNationality', 'status',\n",
       "       'qualifyId', 'qualifyingPosition', 'q1', 'q2', 'q3'],\n",
       "      dtype='object')"
      ]
     },
     "execution_count": 206,
     "metadata": {},
     "output_type": "execute_result"
    }
   ],
   "source": [
    "final_df.columns"
   ]
  },
  {
   "cell_type": "code",
   "execution_count": 208,
   "id": "0bb67c12-c99b-49c9-8109-f144f3489a9b",
   "metadata": {},
   "outputs": [],
   "source": [
    "df1 = pd.merge(final_df, driver_origins, on = [\"driverNationality\"], how=\"inner\")"
   ]
  },
  {
   "cell_type": "code",
   "execution_count": 210,
   "id": "7eb55746-405d-4ef5-ad5d-ba15d345fc6d",
   "metadata": {},
   "outputs": [],
   "source": [
    "df2 = pd.merge(df1, constructor_origins, on = [\"constructorNationality\"], how=\"inner\")"
   ]
  },
  {
   "cell_type": "code",
   "execution_count": 212,
   "id": "431e4b07-bd42-4e3d-82d4-0bbf09e9bb47",
   "metadata": {},
   "outputs": [],
   "source": [
    "# df3 = pd.merge(df2, driver_standings, on = [\"raceId\", \"driverId\"], how=\"inner\")"
   ]
  },
  {
   "cell_type": "code",
   "execution_count": 213,
   "id": "d57ea4da-0f44-40cb-a036-0b47011f7902",
   "metadata": {},
   "outputs": [],
   "source": [
    "df3['driverDOB'] = pd.to_datetime(df3['driverDOB'], format='%Y-%m-%d')\n",
    "df3['raceDate'] = pd.to_datetime(df3['raceDate'], format='%Y-%m-%d')"
   ]
  },
  {
   "cell_type": "code",
   "execution_count": 214,
   "id": "b969094d-a362-45ec-96d4-d44aaaa8bfa1",
   "metadata": {},
   "outputs": [],
   "source": [
    "df3['driverAge'] = (df3['raceDate'] - df3['driverDOB']).dt.days // 365"
   ]
  },
  {
   "cell_type": "code",
   "execution_count": 218,
   "id": "496a84ab-1cb5-4197-b0e7-63e25ac8cc75",
   "metadata": {},
   "outputs": [],
   "source": [
    "df3.to_csv(\"formula1.csv\")"
   ]
  },
  {
   "cell_type": "code",
   "execution_count": null,
   "id": "d7e6298e-40ab-4bfa-aa96-5e3017b986d0",
   "metadata": {},
   "outputs": [],
   "source": []
  }
 ],
 "metadata": {
  "kernelspec": {
   "display_name": "Python 3 (ipykernel)",
   "language": "python",
   "name": "python3"
  },
  "language_info": {
   "codemirror_mode": {
    "name": "ipython",
    "version": 3
   },
   "file_extension": ".py",
   "mimetype": "text/x-python",
   "name": "python",
   "nbconvert_exporter": "python",
   "pygments_lexer": "ipython3",
   "version": "3.12.4"
  }
 },
 "nbformat": 4,
 "nbformat_minor": 5
}
